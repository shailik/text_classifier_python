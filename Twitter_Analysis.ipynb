{
 "cells": [
  {
   "cell_type": "code",
   "execution_count": 2,
   "metadata": {},
   "outputs": [],
   "source": [
    "# import libraries\n",
    "\n",
    "import tweepy\n",
    "from textblob import TextBlob\n",
    "import re\n",
    "import sys\n",
    "import csv\n",
    "import botometer\n",
    "from tweepy import OAuthHandler\n",
    "import pandas as pd\n",
    "import numpy as np\n",
    "import matplotlib.pyplot as plt\n",
    "import seaborn as sns"
   ]
  },
  {
   "cell_type": "code",
   "execution_count": 3,
   "metadata": {},
   "outputs": [],
   "source": [
    "# Removed acess keys and tokens for the sake of security\n",
    "\n",
    "access_token = ''\n",
    "access_token_secret = ''\n",
    "consumer_key = ''\n",
    "consumer_secret = ''"
   ]
  },
  {
   "cell_type": "code",
   "execution_count": 4,
   "metadata": {},
   "outputs": [],
   "source": [
    "# authorize access to TweePy\n",
    "\n",
    "auth = tweepy.OAuthHandler(consumer_key,consumer_secret)\n",
    "auth.set_access_token(access_token,access_token_secret)\n",
    "api = tweepy.API(auth,wait_on_rate_limit=True, wait_on_rate_limit_notify=True)"
   ]
  },
  {
   "cell_type": "code",
   "execution_count": 5,
   "metadata": {},
   "outputs": [
    {
     "name": "stdout",
     "output_type": "stream",
     "text": [
      "1\n",
      "2\n",
      "3\n",
      "4\n",
      "5\n"
     ]
    }
   ],
   "source": [
    "# Fetch tweets\n",
    "\n",
    "tweets = []\n",
    "sentiments =[]\n",
    "count = 1\n",
    "query = \"#hydroxychloroquine OR #remdesivir OR #Remdesivir OR hydroxychloroquine OR remdesivir OR #GileadSciences OR GileadSciences OR #drug OR drug OR #antiviral OR antiviral OR #Antibiotic OR antibiotic\"\n",
    "for tweet in tweepy.Cursor(api.search,q=query,count=450).items(5):\n",
    "    print(count)\n",
    "    count+=1\n",
    "    \n",
    "    try:\n",
    "        data = [tweet.created_at,tweet.id,tweet.text,tweet.source,tweet.retweet_count,tweet.user._json['screen_name'],tweet.user._json['created_at'],tweet.user._json['location'],tweet.coordinates,tweet.entities['urls']]\n",
    "        data = tuple(data)\n",
    "        tweets.append(data)\n",
    "        \n",
    "    except tweepy.TweepError as e:\n",
    "        print(e.reason)\n",
    "        continue\n",
    "    \n",
    "    try:\n",
    "        sentiment_data = [tweet.created_at,tweet.text]\n",
    "        sentiment_data = tuple(sentiment_data)\n",
    "        textWords=sentiment_data[1].split()\n",
    "        #clean tweets\n",
    "        cleanedTweet=' '.join(re.sub(\"(@[A-Za-z0-9]+)|([^0-9A-Za-z \\t])|(\\w+:\\/\\/\\S+)|(RT)\", \" \", sentiment_data[1]).split())\n",
    "        analysis= TextBlob(cleanedTweet)\n",
    "        polarity = 'Positive'\n",
    "        if(analysis.sentiment.polarity < 0):\n",
    "            polarity = 'Negative'\n",
    "        if(0<=analysis.sentiment.polarity <=0.2):\n",
    "            polarity = 'Neutral'\n",
    "        #print (polarity)\n",
    "        dic={}\n",
    "        dic['Sentiment']=polarity\n",
    "        dic['Tweet']=cleanedTweet\n",
    "        dic['Polarity'] = analysis.sentiment.polarity\n",
    "        dic['Created_at'] = sentiment_data[0]\n",
    "        sentiments.append(dic)\n",
    "        \n",
    "    except tweepy.TweepError as e:\n",
    "        print(e.reason)\n",
    "        continue\n",
    "    \n",
    "    except StopIteration:\n",
    "        break\n",
    "        \n",
    "df_analysis = pd.DataFrame(tweets, columns = ['created_at','tweet_id','tweet_text','tweet_source','retweet_count','screen_name','account_creation_date','location','coordinates','urls'])\n",
    "df_analysis.to_csv('Filepath')\n",
    "\n",
    "df_sentiment=pd.DataFrame(sentiments)\n",
    "df_sentiment.to_csv('Filepath')"
   ]
  },
  {
   "cell_type": "code",
   "execution_count": 9,
   "metadata": {},
   "outputs": [],
   "source": [
    "import glob\n",
    "import re\n",
    "import pandas as pd"
   ]
  },
  {
   "cell_type": "code",
   "execution_count": 7,
   "metadata": {},
   "outputs": [
    {
     "name": "stdout",
     "output_type": "stream",
     "text": [
      "['Antiviral_tweet.csv', 'Disinfectant_tweet.csv']\n"
     ]
    }
   ],
   "source": [
    "all_filenames = [i for i in glob.glob('*.csv')]\n",
    "print(all_filenames)"
   ]
  },
  {
   "cell_type": "code",
   "execution_count": 8,
   "metadata": {},
   "outputs": [],
   "source": [
    "#combine all files in the list\n",
    "combined_csv = pd.concat([pd.read_csv(f) for f in all_filenames ])\n",
    "#export to csv\n",
    "combined_csv.to_csv( \"train_dataset.csv\", index=False, encoding='utf-8')"
   ]
  },
  {
   "cell_type": "code",
   "execution_count": 3,
   "metadata": {},
   "outputs": [
    {
     "data": {
      "text/html": [
       "<div>\n",
       "<style scoped>\n",
       "    .dataframe tbody tr th:only-of-type {\n",
       "        vertical-align: middle;\n",
       "    }\n",
       "\n",
       "    .dataframe tbody tr th {\n",
       "        vertical-align: top;\n",
       "    }\n",
       "\n",
       "    .dataframe thead th {\n",
       "        text-align: right;\n",
       "    }\n",
       "</style>\n",
       "<table border=\"1\" class=\"dataframe\">\n",
       "  <thead>\n",
       "    <tr style=\"text-align: right;\">\n",
       "      <th></th>\n",
       "      <th>Sentiment</th>\n",
       "      <th>Tweet</th>\n",
       "      <th>Polarity</th>\n",
       "      <th>Created_at</th>\n",
       "    </tr>\n",
       "  </thead>\n",
       "  <tbody>\n",
       "    <tr>\n",
       "      <th>0</th>\n",
       "      <td>Neutral</td>\n",
       "      <td>These niggas be scammers amp drug dealers with...</td>\n",
       "      <td>0.000000</td>\n",
       "      <td>5/26/2020 1:21</td>\n",
       "    </tr>\n",
       "    <tr>\n",
       "      <th>1</th>\n",
       "      <td>Neutral</td>\n",
       "      <td>Dear Mr President China has already discovered...</td>\n",
       "      <td>0.000000</td>\n",
       "      <td>5/26/2020 1:21</td>\n",
       "    </tr>\n",
       "    <tr>\n",
       "      <th>2</th>\n",
       "      <td>Negative</td>\n",
       "      <td>Whippits A NASTY DRUG Do Not get into that shi...</td>\n",
       "      <td>-0.533333</td>\n",
       "      <td>5/26/2020 1:21</td>\n",
       "    </tr>\n",
       "    <tr>\n",
       "      <th>3</th>\n",
       "      <td>Neutral</td>\n",
       "      <td>Amy Klobuchar admitted that Hydroxychloroquine...</td>\n",
       "      <td>0.000000</td>\n",
       "      <td>5/26/2020 1:21</td>\n",
       "    </tr>\n",
       "    <tr>\n",
       "      <th>4</th>\n",
       "      <td>Neutral</td>\n",
       "      <td>Amy Klobuchar admitted that Hydroxychloroquine...</td>\n",
       "      <td>0.000000</td>\n",
       "      <td>5/26/2020 1:21</td>\n",
       "    </tr>\n",
       "  </tbody>\n",
       "</table>\n",
       "</div>"
      ],
      "text/plain": [
       "  Sentiment                                              Tweet  Polarity  \\\n",
       "0   Neutral  These niggas be scammers amp drug dealers with...  0.000000   \n",
       "1   Neutral  Dear Mr President China has already discovered...  0.000000   \n",
       "2  Negative  Whippits A NASTY DRUG Do Not get into that shi... -0.533333   \n",
       "3   Neutral  Amy Klobuchar admitted that Hydroxychloroquine...  0.000000   \n",
       "4   Neutral  Amy Klobuchar admitted that Hydroxychloroquine...  0.000000   \n",
       "\n",
       "       Created_at  \n",
       "0  5/26/2020 1:21  \n",
       "1  5/26/2020 1:21  \n",
       "2  5/26/2020 1:21  \n",
       "3  5/26/2020 1:21  \n",
       "4  5/26/2020 1:21  "
      ]
     },
     "execution_count": 3,
     "metadata": {},
     "output_type": "execute_result"
    }
   ],
   "source": [
    "df1 = pd.read_csv(\"sentiment_analysis_antiviral.csv\")\n",
    "df1.head()"
   ]
  },
  {
   "cell_type": "code",
   "execution_count": 11,
   "metadata": {},
   "outputs": [],
   "source": [
    "df1['tweet_id'] = df1['tweet_id'].str[2:]\n",
    "df1\n",
    "df1.to_csv('test.csv')"
   ]
  },
  {
   "cell_type": "code",
   "execution_count": 7,
   "metadata": {},
   "outputs": [],
   "source": [
    "hashtags = []\n",
    "hashtag_pattern = re.compile(r\"#[a-zA-Z]+\")\n",
    "hashtag_matches = list(df1['tweet_text'].apply(hashtag_pattern.findall))\n",
    "hashtag_dict = {}\n",
    "for match in hashtag_matches:\n",
    "    for singlematch in match:\n",
    "        if singlematch not in hashtag_dict.keys():\n",
    "            hashtag_dict[singlematch] = 1\n",
    "        else:\n",
    "            hashtag_dict[singlematch] = hashtag_dict[singlematch]+1\n",
    "            "
   ]
  },
  {
   "cell_type": "code",
   "execution_count": 8,
   "metadata": {},
   "outputs": [],
   "source": [
    "hashtag_ordered_list =sorted(hashtag_dict.items(), key=lambda x:x[1])\n",
    "hashtag_ordered_list = hashtag_ordered_list[::-1]\n",
    "#Separating the hashtags and their values into two different lists\n",
    "hashtag_ordered_values = []\n",
    "hashtag_ordered_keys = []\n",
    "#Pick the 20 most used hashtags to plot\n",
    "for item in hashtag_ordered_list[0:20]:\n",
    "    hashtag_ordered_keys.append(item[0])\n",
    "    hashtag_ordered_values.append(item[1])"
   ]
  },
  {
   "cell_type": "code",
   "execution_count": 9,
   "metadata": {},
   "outputs": [
    {
     "data": {
      "image/png": "[encoded data removed]",
      "text/plain": [
       "<Figure size 864x864 with 1 Axes>"
      ]
     },
     "metadata": {
      "needs_background": "light"
     },
     "output_type": "display_data"
    }
   ],
   "source": [
    "fig, ax = plt.subplots(figsize = (12,12))\n",
    "y_pos = np.arange(len(hashtag_ordered_keys))\n",
    "ax.barh(y_pos ,list(hashtag_ordered_values)[::-1], align='center', color = sns.light_palette(\"pink\", reverse=True), edgecolor = 'black', linewidth=1)\n",
    "ax.set_yticks(y_pos)\n",
    "ax.set_yticklabels(list(hashtag_ordered_keys)[::-1])\n",
    "ax.set_xlabel(\"No of appereances\")\n",
    "ax.set_title(\"Most used hashtags\", fontsize = 20)\n",
    "plt.tight_layout(pad=3)\n",
    "plt.show()"
   ]
  },
  {
   "cell_type": "code",
   "execution_count": 36,
   "metadata": {},
   "outputs": [],
   "source": [
    "mentions = []\n",
    "mention_pattern = re.compile(r\"@[a-zA-Z_]+\")\n",
    "mention_matches = list(df1['tweet_text'].apply(mention_pattern.findall))\n",
    "mentions_dict = {}\n",
    "for match in mention_matches:\n",
    "    for singlematch in match:\n",
    "        if singlematch not in mentions_dict.keys():\n",
    "            mentions_dict[singlematch] = 1\n",
    "        else:\n",
    "            mentions_dict[singlematch] = mentions_dict[singlematch]+1"
   ]
  },
  {
   "cell_type": "code",
   "execution_count": 37,
   "metadata": {},
   "outputs": [],
   "source": [
    "#the number of times they have been mentioned\n",
    "mentions_ordered_list =sorted(mentions_dict.items(), key=lambda x:x[1])\n",
    "mentions_ordered_list = mentions_ordered_list[::-1]\n",
    "#Pick the 20 top mentioned users to plot and separate the previous #list into two list: one with the users and one with the values\n",
    "mentions_ordered_values = []\n",
    "mentions_ordered_keys = []\n",
    "for item in mentions_ordered_list[0:20]:\n",
    "    mentions_ordered_keys.append(item[0])\n",
    "    mentions_ordered_values.append(item[1])"
   ]
  },
  {
   "cell_type": "code",
   "execution_count": 12,
   "metadata": {},
   "outputs": [
    {
     "data": {
      "image/png": "[encoded data removed]",
      "text/plain": [
       "<Figure size 1080x1080 with 1 Axes>"
      ]
     },
     "metadata": {
      "needs_background": "light"
     },
     "output_type": "display_data"
    }
   ],
   "source": [
    "fig, ax = plt.subplots(figsize = (15,15))\n",
    "y_pos = np.arange(len(mentions_ordered_values))\n",
    "ax.barh(y_pos ,list(mentions_ordered_values)[::-1], align='center', color = sns.light_palette(\"grey\", reverse=False), edgecolor = 'black', linewidth=1)\n",
    "ax.set_yticks(y_pos )\n",
    "ax.set_yticklabels(list(mentions_ordered_keys)[::-1])\n",
    "ax.set_xlabel(\"No of mentions\")\n",
    "ax.set_title(\"No of times the account was mentioned\", fontsize = 20)\n",
    "\n",
    "plt.show()"
   ]
  },
  {
   "cell_type": "code",
   "execution_count": 5,
   "metadata": {},
   "outputs": [],
   "source": [
    "#Going to see who are the users who have tweeted or retweeted the #most and see how\n",
    "#Likely it is that they are bots\n",
    "usertweets = df1.groupby('screen_name')\n",
    "#Taking the top 25 tweeting users\n",
    "top_users = usertweets.count()['tweet_text'].sort_values(ascending = False)[:20]\n",
    "top_users_dict = top_users.to_dict()\n",
    "user_ordered_dict =sorted(top_users_dict.items(), key=lambda x:x[1])\n",
    "user_ordered_dict = user_ordered_dict[::-1]\n",
    "#Now, like in the previous hashtags and mention cases, going to make #two lists, one with the username and one with the value\n",
    "dict_values = []\n",
    "dict_keys = []\n",
    "for item in user_ordered_dict[0:20]:\n",
    "    dict_keys.append(item[0])\n",
    "    dict_values.append(item[1])"
   ]
  },
  {
   "cell_type": "code",
   "execution_count": 6,
   "metadata": {},
   "outputs": [],
   "source": [
    "#Plot these results\n",
    "fig = plt.figure(figsize = (15,15))\n",
    "index = np.arange(20)\n",
    "plt.bar(index, dict_values, edgecolor = 'black', linewidth=1, color = sns.light_palette(\"orange\", reverse=True))\n",
    "plt.xlabel('Most mentioned Users', fontsize = 18)\n",
    "plt.ylabel('No of Tweets', fontsize=20)\n",
    "plt.xticks(index,dict_keys, fontsize=15, rotation=90)\n",
    "plt.title('Number of tweets for the most active users', fontsize = 20)\n",
    "fig.savefig('image.png')   # save the figure to file\n",
    "plt.close(fig)\n",
    "plt.show()"
   ]
  },
  {
   "cell_type": "code",
   "execution_count": 7,
   "metadata": {},
   "outputs": [],
   "source": [
    "rapidapi_key = \"\"\n",
    "#Dictionary with the credentials for the Twitter APIs\n",
    "twitter_app_auth = {\n",
    "    'access_token' : \"\",\n",
    "    'access_token_secret' : \"\",\n",
    "    'consumer_key' : \"\",\n",
    "    'consumer_secret' : \"\",    \n",
    "}\n"
   ]
  },
  {
   "cell_type": "code",
   "execution_count": 8,
   "metadata": {},
   "outputs": [
    {
     "name": "stdout",
     "output_type": "stream",
     "text": [
      "{'@Hotpage_News': 72, '@mitikerang': 20, '@DavidFDodge1': 30, '@TornadoNewsLink': 50, '@rtehrani': 22, '@acnh_is_my_drug': 13, '@two001snake': 34, '@kk131066': 87, '@always92234822': 18, '@fuzionbunny': 12, '@cummingshawk': 52, '@whosusingdiff': 34, '@drug_purple': 38, '@Covidpibot': 0, '@NaattuVarthakal': 86, '@MadrigalMaggie': 20, '@KidKool4U': 34, '@richardursomd': 11, '@janedeger': 48, '@RJP56': 18}\n"
     ]
    }
   ],
   "source": [
    "#Connecting to the botometer API\n",
    "bom = botometer.Botometer(wait_on_ratelimit = True, rapidapi_key = rapidapi_key, **twitter_app_auth)\n",
    "#Returns a dictionary with the most active users and the porcentage #of likeliness of them being a Bot using botometer\n",
    "bot_dict = {}\n",
    "top_users_list = dict_keys\n",
    "for user in top_users_list:\n",
    "    user = '@'+ user\n",
    "    try:\n",
    "        result = bom.check_account(user)\n",
    "        bot_dict[user] = int((result['scores']['english'])*100)\n",
    "    except tweepy.TweepError:\n",
    "        bot_dict[user] = 0\n",
    "        continue\n",
    "print(bot_dict)"
   ]
  },
  {
   "cell_type": "code",
   "execution_count": 12,
   "metadata": {},
   "outputs": [],
   "source": [
    "#Plot these results\n",
    "fig = plt.figure(figsize = (15,15))\n",
    "index = np.arange(20)\n",
    "plt.bar(index,bot_dict.values(), edgecolor = 'black', linewidth=1, color = 'Maroon')\n",
    "plt.xlabel('screen_name', fontsize = 18)\n",
    "plt.ylabel('% of chance being a bot', fontsize=20)\n",
    "plt.xticks(index,bot_dict.keys(), fontsize=15, rotation=90)\n",
    "plt.title('% of a twitter account being a bot', fontsize = 20)\n",
    "fig.savefig('image1.png')   # save the figure to file\n",
    "plt.close(fig)\n",
    "plt.show()"
   ]
  }
 ],
 "metadata": {
  "kernelspec": {
   "display_name": "Python 3",
   "language": "python",
   "name": "python3"
  },
  "language_info": {
   "codemirror_mode": {
    "name": "ipython",
    "version": 3
   },
   "file_extension": ".py",
   "mimetype": "text/x-python",
   "name": "python",
   "nbconvert_exporter": "python",
   "pygments_lexer": "ipython3",
   "version": "3.7.6"
  }
 },
 "nbformat": 4,
 "nbformat_minor": 4
}
